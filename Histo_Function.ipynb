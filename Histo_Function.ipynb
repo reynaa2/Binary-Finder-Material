{
 "cells": [
  {
   "cell_type": "code",
   "execution_count": 2,
   "metadata": {
    "collapsed": true
   },
   "outputs": [],
   "source": [
    "import apogee.tools.read as apread\n",
    "import numpy as np\n",
    "import matplotlib.pyplot as plt\n",
    "import os"
   ]
  },
  {
   "cell_type": "code",
   "execution_count": 12,
   "metadata": {
    "collapsed": false
   },
   "outputs": [],
   "source": [
    "def histo(x,y,z,R):\n",
    "    plt.hist(x, bins='scott',normed=True,alpha=0.5,label='1,000-3,000 of DR13',color='blue')\n",
    "    plt.hist(y, bins='scott',normed=True,alpha=0.5,label='Drews List',color='green')\n",
    "    plt.hist(z, bins='scott',normed=True,alpha=0.5,label='SB9_SB2s',color='yellow')\n",
    "    plt.title(\"Histogram of Confirmed Binaries and DR13 Sample for \" + R)\n",
    "    plt.xlabel('R Values')\n",
    "    plt.legend(loc = 'upper right')\n",
    "    #plt.show()\n",
    "    plt.savefig('/Volumes/CoveyData/APOGEE_Spectra/APOGEE2_DR13/Bisector/BinaryFinder_Plots/hist/SB9.DL.DR13_'+R+'_Histogram.png')\n",
    "    plt.close('all')"
   ]
  },
  {
   "cell_type": "code",
   "execution_count": 23,
   "metadata": {
    "collapsed": false
   },
   "outputs": [
    {
     "name": "stdout",
     "output_type": "stream",
     "text": [
      "2M00013391+5904490\n",
      "4424\n",
      "73.928472896\n",
      "110.790004014\n",
      "515.049919604\n"
     ]
    }
   ],
   "source": [
    "R1_DL = np.loadtxt('DrwesList_RefinedTable.lis',usecols=[2],dtype=float)\n",
    "R2_DL = np.loadtxt('DrwesList_RefinedTable.lis',usecols=[3],dtype=float)\n",
    "R3_DL = np.loadtxt('DrwesList_RefinedTable.lis',usecols=[4],dtype=float)\n",
    "R4_DL = np.loadtxt('DrwesList_RefinedTable.lis',usecols=[5],dtype=float)\n",
    "R5_DL = np.loadtxt('DrwesList_RefinedTable.lis',usecols=[6],dtype=float)\n",
    "R6_DL = np.loadtxt('DrwesList_RefinedTable.lis',usecols=[7],dtype=float)\n",
    "R7_DL = np.loadtxt('DrwesList_RefinedTable.lis',usecols=[8],dtype=float)\n",
    "R8_DL = np.loadtxt('DrwesList_RefinedTable.lis',usecols=[9],dtype=float)\n",
    "R9_DL = np.loadtxt('DrwesList_RefinedTable.lis',usecols=[10],dtype=float)\n",
    "R10_DL = np.loadtxt('DrwesList_RefinedTable.lis',usecols=[11],dtype=float)\n",
    "R11_DL = np.loadtxt('DrwesList_RefinedTable.lis',usecols=[12],dtype=float)\n",
    "R12_DL = np.loadtxt('DrwesList_RefinedTable.lis',usecols=[13],dtype=float)\n",
    "R13_DL = np.loadtxt('DrwesList_RefinedTable.lis',usecols=[14],dtype=float)\n",
    "R14_DL = np.loadtxt('DrwesList_RefinedTable.lis',usecols=[15],dtype=float)\n",
    "R15_DL = np.loadtxt('DrwesList_RefinedTable.lis',usecols=[16],dtype=float)\n",
    "R16_DL = np.loadtxt('DrwesList_RefinedTable.lis',usecols=[17],dtype=float)\n",
    "R17_DL = np.loadtxt('DrwesList_RefinedTable.lis',usecols=[18],dtype=float)\n",
    "#R18_DL = np.loadtxt('DrwesList_RefinedTable.lis',usecols=[19],dtype=str)\n",
    "\n",
    "R1_SB9 = np.loadtxt('SB9_RefinedTable.lis',usecols=[2],dtype=float)\n",
    "R2_SB9 = np.loadtxt('SB9_RefinedTable.lis',usecols=[3],dtype=float)\n",
    "R3_SB9 = np.loadtxt('SB9_RefinedTable.lis',usecols=[4],dtype=float)\n",
    "R4_SB9 = np.loadtxt('SB9_RefinedTable.lis',usecols=[5],dtype=float)\n",
    "R5_SB9 = np.loadtxt('SB9_RefinedTable.lis',usecols=[6],dtype=float)\n",
    "R6_SB9 = np.loadtxt('SB9_RefinedTable.lis',usecols=[7],dtype=float)\n",
    "R7_SB9 = np.loadtxt('SB9_RefinedTable.lis',usecols=[8],dtype=float)\n",
    "R8_SB9 = np.loadtxt('SB9_RefinedTable.lis',usecols=[9],dtype=float)\n",
    "R9_SB9 = np.loadtxt('SB9_RefinedTable.lis',usecols=[10],dtype=float)\n",
    "R10_SB9 = np.loadtxt('SB9_RefinedTable.lis',usecols=[11],dtype=float)\n",
    "R11_SB9 = np.loadtxt('SB9_RefinedTable.lis',usecols=[12],dtype=float)\n",
    "R12_SB9 = np.loadtxt('SB9_RefinedTable.lis',usecols=[13],dtype=float)\n",
    "R13_SB9 = np.loadtxt('SB9_RefinedTable.lis',usecols=[14],dtype=float)\n",
    "R14_SB9 = np.loadtxt('SB9_RefinedTable.lis',usecols=[15],dtype=float)\n",
    "R15_SB9 = np.loadtxt('SB9_RefinedTable.lis',usecols=[16],dtype=float)\n",
    "R16_SB9 = np.loadtxt('SB9_RefinedTable.lis',usecols=[17],dtype=float)\n",
    "R17_SB9 = np.loadtxt('SB9_RefinedTable.lis',usecols=[18],dtype=float)\n",
    "\n",
    "R1_DR13 = np.loadtxt('DR13Sample_RefinedTable.lis',usecols=[2],dtype=float)\n",
    "R2_DR13 = np.loadtxt('DR13Sample_RefinedTable.lis',usecols=[3],dtype=float)\n",
    "R3_DR13 = np.loadtxt('DR13Sample_RefinedTable.lis',usecols=[4],dtype=float)\n",
    "R4_DR13 = np.loadtxt('DR13Sample_RefinedTable.lis',usecols=[5],dtype=float)\n",
    "R5_DR13 = np.loadtxt('DR13Sample_RefinedTable.lis',usecols=[6],dtype=float)\n",
    "R6_DR13 = np.loadtxt('DR13Sample_RefinedTable.lis',usecols=[7],dtype=float)\n",
    "R7_DR13 = np.loadtxt('DR13Sample_RefinedTable.lis',usecols=[8],dtype=float)\n",
    "R8_DR13 = np.loadtxt('DR13Sample_RefinedTable.lis',usecols=[9],dtype=float)\n",
    "R9_DR13 = np.loadtxt('DR13Sample_RefinedTable.lis',usecols=[10],dtype=float)\n",
    "R10_DR13 = np.loadtxt('DR13Sample_RefinedTable.lis',usecols=[11],dtype=float)\n",
    "R11_DR13 = np.loadtxt('DR13Sample_RefinedTable.lis',usecols=[12],dtype=float)\n",
    "R12_DR13 = np.loadtxt('DR13Sample_RefinedTable.lis',usecols=[13],dtype=float)\n",
    "R13_DR13 = np.loadtxt('DR13Sample_RefinedTable.lis',usecols=[14],dtype=float)\n",
    "R14_DR13 = np.loadtxt('DR13Sample_RefinedTable.lis',usecols=[15],dtype=float)\n",
    "R15_DR13 = np.loadtxt('DR13Sample_RefinedTable.lis',usecols=[16],dtype=float)\n",
    "R16_DR13 = np.loadtxt('DR13Sample_RefinedTable.lis',usecols=[17],dtype=float)\n",
    "R17_DR13 = np.loadtxt('DR13Sample_RefinedTable.lis',usecols=[18],dtype=float)\n",
    "\n",
    "apogeeID = np.loadtxt('DR13Sample_RefinedTable.lis',usecols=[1],dtype=str)\n",
    "locationID = np.loadtxt('DR13Sample_RefinedTable.lis',usecols=[0],dtype=str)\n",
    "print(apogeeID[np.argmax(R17_DR13)])\n",
    "print(locationID[np.argmax(R17_DR13)])\n",
    "print(max(R17_DL))\n",
    "print(max(R17_SB9))\n",
    "print(max(R17_DR13))"
   ]
  },
  {
   "cell_type": "code",
   "execution_count": 15,
   "metadata": {
    "collapsed": false
   },
   "outputs": [
    {
     "name": "stdout",
     "output_type": "stream",
     "text": [
      "515.049919604\n"
     ]
    }
   ],
   "source": [
    "f2 = histo(R1_DR13,R1_DL,R1_SB9,\"2nd R Window\")\n",
    "f3 = histo(R2_DR13,R2_DL,R2_SB9,\"3rd R Window\")\n",
    "f4 = histo(R3_DR13,R3_DL,R3_SB9,\"4th R Window\")\n",
    "f5 = histo(R4_DR13,R4_DL,R4_SB9,\"5th R Window\")\n",
    "f6 = histo(R5_DR13,R5_DL,R5_SB9,\"6th R Window\")\n",
    "f7 = histo(R6_DR13,R6_DL,R6_SB9,\"7th R Window\")\n",
    "f8 = histo(R7_DR13,R7_DL,R7_SB9,\"8th R Window\")\n",
    "f9 = histo(R8_DR13,R8_DL,R8_SB9,\"9th R Window\")\n",
    "f10 = histo(R9_DR13,R9_DL,R9_SB9,\"10th R Window\")\n",
    "f11 = histo(R10_DR13,R10_DL,R10_SB9,\"11th R Window\")\n",
    "f12 = histo(R11_DR13,R11_DL,R11_SB9,\"12th R Window\")\n",
    "f13 = histo(R12_DR13,R12_DL,R12_SB9,\"13th R Window\")\n",
    "f14 = histo(R13_DR13,R13_DL,R13_SB9,\"14th R Window\")\n",
    "f15 = histo(R14_DR13,R14_DL,R14_SB9,\"15th R Window\")\n",
    "f16 = histo(R15_DR13,R15_DL,R15_SB9,\"16th R Window\")\n",
    "f17 = histo(R16_DR13,R16_DL,R16_SB9,\"17th R Window\")\n",
    "f18 = histo(R17_DR13,R17_DL,R17_SB9,\"18th R Window\")"
   ]
  }
 ],
 "metadata": {
  "anaconda-cloud": {},
  "kernelspec": {
   "display_name": "Python [yo]",
   "language": "python",
   "name": "Python [yo]"
  },
  "language_info": {
   "codemirror_mode": {
    "name": "ipython",
    "version": 2
   },
   "file_extension": ".py",
   "mimetype": "text/x-python",
   "name": "python",
   "nbconvert_exporter": "python",
   "pygments_lexer": "ipython2",
   "version": "2.7.12"
  }
 },
 "nbformat": 4,
 "nbformat_minor": 0
}
