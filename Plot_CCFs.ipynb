{
 "cells": [
  {
   "cell_type": "code",
   "execution_count": null,
   "metadata": {
    "collapsed": true
   },
   "outputs": [],
   "source": [
    "import numpy as np\n",
    "import matplotlib.pyplot as plt\n",
    "import apogee.tools.read as apread\n",
    "\n",
    "locationIDs = '4587'\n",
    "apogeeIDs = '2M03285425+3037402'\n",
    "\n",
    "badheader, header = apread.apStar(locationIDs, apogeeIDs, ext=0, dr='13', header=True)\n",
    "data = apread.apStar(locationIDs, apogeeIDs, ext=9, header=False, dr='13')\n",
    "nvisits = header['NVISITS']\n",
    "plt.figure(figsize=(10,10))\n",
    "for visit in range(0, nvisits):\n",
    "    if (nvisits != 1):\n",
    "        ccf = data['CCF'][0][2+ visit]\n",
    "    else:\n",
    "        ccf = data['CCF'][0]\n",
    "\n",
    "    plt.plot(ccf + visit,label= 'Visit: '+str(1+visit))\n",
    "    \n",
    "    #axes = plt.gca()\n",
    "    #axes.set_xlim([100,300])\n",
    "    \n",
    "    plt.xlabel('CCF Lag',fontsize=15)\n",
    "    plt.ylabel('$\\widehat{CCF}$ Units', fontsize=15)\n",
    "    plt.title(' All Visits for 4587 / 2M03285425+3037402',fontsize=16)\n",
    "    pl.legend(loc='lower left')\n",
    "    \n",
    "\n",
    "plt.savefig('PB_2M03285425+3037402.png')\n",
    "plt.show()"
   ]
  }
 ],
 "metadata": {
  "anaconda-cloud": {},
  "kernelspec": {
   "display_name": "Python [yo]",
   "language": "python",
   "name": "Python [yo]"
  },
  "language_info": {
   "codemirror_mode": {
    "name": "ipython",
    "version": 2
   },
   "file_extension": ".py",
   "mimetype": "text/x-python",
   "name": "python",
   "nbconvert_exporter": "python",
   "pygments_lexer": "ipython2",
   "version": "2.7.12"
  }
 },
 "nbformat": 4,
 "nbformat_minor": 0
}
