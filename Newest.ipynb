{
 "cells": [
  {
   "cell_type": "code",
   "execution_count": 83,
   "metadata": {
    "collapsed": false
   },
   "outputs": [],
   "source": [
    "from BFData import *\n",
    "from BinaryFinderTool import *\n",
    "import os"
   ]
  },
  {
   "cell_type": "code",
   "execution_count": 113,
   "metadata": {
    "collapsed": false
   },
   "outputs": [],
   "source": [
    "def R_set(locationID,apogeeID,ranger,value):\n",
    "    R_name = []\n",
    "    R_Peak = []\n",
    "    j = []\n",
    "    for i in range(len(locationID)):\n",
    "        #print(locationID[i],apogeeID[i])\n",
    "        if locationID[i] != '1':\n",
    "            folder = '/Volumes/CoveyData/APOGEE_Spectra/APOGEE2_DR13/Bisector/BinaryFinder2/'\n",
    "            filename = '/Volumes/CoveyData/APOGEE_Spectra/APOGEE2_DR13/Bisector/BinaryFinder2/{0}/{1}/{2}.tbl'.format(ranger, locationID[i], apogeeID[i])\n",
    "            if os.path.exists(filename):\n",
    "                name = BFData(locationID[i],apogeeID[i],ranger)\n",
    "                R_name.append(name.lowestR(value))\n",
    "                R_Peak.append(name.lowestRPeak())\n",
    "            else:\n",
    "                j.append([locationID[i],apogeeID[i]])\n",
    "    return R_name, R_Peak\n",
    "\n",
    "def histo(x,y,z,R):\n",
    "    plt.hist(x, bins='auto',normed=True,alpha=0.5,label='2,000 of DR13')\n",
    "    plt.hist(y, bins='auto',normed=True,alpha=0.5,label='Drews List')\n",
    "    plt.hist(z, bins='auto',normed=True,alpha=0.5,label='SB9_SB2s')\n",
    "    plt.suptitle(\"Histogram of Confirmed Binaries and DR13 Sample for \" + R)\n",
    "    plt.xlabel('R Values')\n",
    "    #plt.xlim(0,100)\n",
    "    plt.legend(loc = 'upper right')\n",
    "    #plt.show()\n",
    "    plt.savefig('/Volumes/CoveyData/APOGEE_Spectra/APOGEE2_DR13/Bisector/BinaryFinder_Plots/hist/SB9.DL.DR13_'+R+'_Histogram.png')\n",
    "    plt.close('all')"
   ]
  },
  {
   "cell_type": "code",
   "execution_count": 114,
   "metadata": {
    "collapsed": false,
    "scrolled": true
   },
   "outputs": [],
   "source": [
    "SB9_locationID = np.loadtxt('DR12_SB9_SB2s.lis',usecols=[5],dtype=str)\n",
    "SB9_apogeeID = np.loadtxt('DR12_SB9_SB2s.lis',usecols=[4],dtype=str)\n",
    "DL_locationID = np.loadtxt('DrwesList_RefinedTable.lis',usecols=[0],dtype=str)\n",
    "DL_apogeeID = np.loadtxt('DrwesList_RefinedTable.lis',usecols=[1],dtype=str)\n",
    "DR13_locationID = np.loadtxt('DR13Sample_RefinedTable.lis',usecols=[0],dtype=str)\n",
    "DR13_apogeeID = np.loadtxt('DR13Sample_RefinedTable.lis',usecols=[1],dtype=str)\n"
   ]
  },
  {
   "cell_type": "code",
   "execution_count": 115,
   "metadata": {
    "collapsed": false
   },
   "outputs": [],
   "source": [
    "def refinedHisto(x,y,z,R,binwidth):\n",
    "    \n",
    "    plt.hist(x, bins=np.arange(min(x), max(x) + binwidth, binwidth),normed=True,alpha=0.5,label='2,000 of DR13')\n",
    "    plt.hist(y, bins=np.arange(min(y), max(y) + binwidth, binwidth),normed=True,alpha=0.5,label='Drews List (1,258)')\n",
    "    plt.hist(z, bins=np.arange(min(z), max(z) + binwidth, binwidth),normed=True,alpha=0.5,label='SB9 SB2s (144)')\n",
    "    plt.suptitle(\"Histogram of Confirmed Binaries and DR13 Sample for \" + R)\n",
    "    plt.xlabel('R Values')\n",
    "    plt.xlim(0,60)\n",
    "    plt.legend(loc = 'upper right',fontsize=10)\n",
    "    plt.savefig('/Volumes/CoveyData/APOGEE_Spectra/APOGEE2_DR13/Bisector/BinaryFinder_Plots/hist/SB9.DL.DR13_'+R+'_RefinedHistogram.png',dpi=300)\n",
    "    plt.close('all')\n",
    "    \n"
   ]
  },
  {
   "cell_type": "code",
   "execution_count": 121,
   "metadata": {
    "collapsed": false
   },
   "outputs": [],
   "source": [
    "def subhisto(x,y,z,R):\n",
    "    f,(ax1,ax2,ax3,ax4) = plt.subplots(4,sharex =True, sharey=False) \n",
    "    ax1.hist(x, bins='auto',normed=True,alpha=0.5,label='2,000 of DR13')\n",
    "    ax1.hist(y, bins='auto',normed=True,alpha=0.5,label='Drews List')\n",
    "    ax1.hist(z, bins='auto',normed=True,alpha=0.5,label='SB9_SB2s')\n",
    "    ax1.set_title(\"Histogram of Confirmed Binaries and DR13 Sample for \" + R)\n",
    "    ax1.set_xlabel('R Values')\n",
    "    #plt.xlim(0,100)\n",
    "    ax1.legend(loc = 'upper right')\n",
    "    #plt.show()\n",
    "    plt.savefig('/Volumes/CoveyData/APOGEE_Spectra/APOGEE2_DR13/Bisector/BinaryFinder_Plots/hist/SB9.DL.DR13_'+R+'_Histo.jpg')\n",
    "    plt.close('all')    \n",
    "    \n",
    "R_11 = subhisto(R_DR13[0],R_DL[0],R_SB9[0],str(11) + ' R Window')\n",
    "R_12 = subhisto(R_DR13[0],R_DL[0],R_SB9[0],str(12) + ' R Window')\n",
    "R_13 = subhisto(R_DR13[0],R_DL[0],R_SB9[0],str(13) + ' R Window')\n",
    "R_14 = subhisto(R_DR13[0],R_DL[0],R_SB9[0],str(14) + ' R Window')"
   ]
  },
  {
   "cell_type": "code",
   "execution_count": 122,
   "metadata": {
    "collapsed": false
   },
   "outputs": [],
   "source": [
    "for i in range(19):\n",
    "    R_SB9 = R_set(SB9_locationID,SB9_apogeeID,0.1,i)\n",
    "    R_DL = R_set(DL_locationID,DL_apogeeID,0.1,i)\n",
    "    R_DR13 = R_set(DR13_locationID, DR13_apogeeID,0.1,i)\n",
    "    f2 = histo(R_DR13[0],R_DL[0],R_SB9[0],str(i+1) + ' R Window')\n",
    "#f_new = histo(R2_DR13[1],R2_DL[1],R2_SB9[1],str(i+1) + ' R Peak Window')"
   ]
  },
  {
   "cell_type": "code",
   "execution_count": 99,
   "metadata": {
    "collapsed": true
   },
   "outputs": [],
   "source": [
    "def Diff_histo(x,R):\n",
    "    plt.hist(x, bins='scott',normed=True,alpha=0.5,label='Scott Bins')\n",
    "    plt.hist(x, bins='auto',normed=True,alpha=0.5,label='Auto Bins')\n",
    "    plt.suptitle(\"Histogram of Confirmed Binaries and DR13 Sample for \" + R)\n",
    "    plt.xlabel('R Values')\n",
    "    plt.legend(loc = 'upper right')\n",
    "    #plt.show()\n",
    "    plt.savefig('/Volumes/CoveyData/APOGEE_Spectra/APOGEE2_DR13/Bisector/BinaryFinder_Plots/hist/SB9.DL.DR13_'+R+'_Histogram.png')\n",
    "    plt.close('all')\n",
    "\n",
    "for i in range(19):\n",
    "    R1_SB9 = R_set(SB9_locationID,SB9_apogeeID,0.1,i)\n",
    "    R1_DL = R_set(DL_locationID,DL_apogeeID,0.1,i)\n",
    "    R1_DR13 = R_set(DR13_locationID, DR13_apogeeID,0.1,i)\n",
    "    f3 = Diff_histo(R1_DR13[0],str(i+1) + ' R Window(scott vs auto) for DR13')\n",
    "    f4 = Diff_histo(R1_DL[0],str(i+1) + ' R Window(scott vs auto) for DL')\n",
    "    f5 = Diff_histo(R1_SB9[0],str(i+1) + ' R Window(scott vs auto) for SB9')"
   ]
  },
  {
   "cell_type": "code",
   "execution_count": 64,
   "metadata": {
    "collapsed": false
   },
   "outputs": [],
   "source": [
    "#for i in range(19):\n",
    "fold = refinedHisto(R_DR13[0],R_DL[0],R_SB9[0],str(11) + ' R Window',1.0)\n",
    "    #f_New = refinedHisto(R_DR13[1],R_DL[1],R_SB9[1],str(i+1) + ' R Peak Window')\n",
    "f1 = refinedHisto(R_DR13[0],R_DL[0],R_SB9[0],)"
   ]
  },
  {
   "cell_type": "code",
   "execution_count": 45,
   "metadata": {
    "collapsed": false
   },
   "outputs": [
    {
     "name": "stdout",
     "output_type": "stream",
     "text": [
      "[  0.88671001  10.6090124   20.33131479  30.05361718  39.77591957\n",
      "  49.49822195  59.22052434  68.94282673  78.66512912  88.38743151\n",
      "  98.1097339 ]\n",
      "[  0.83693647   2.50769182   4.17844717   5.84920251   7.51995786\n",
      "   9.1907132   10.86146855  12.5322239   14.20297924  15.87373459\n",
      "  17.54448994  19.21524528  20.88600063  22.55675597  24.22751132\n",
      "  25.89826667  27.56902201  29.23977736  30.91053271  32.58128805\n",
      "  34.2520434   35.92279874  37.59355409  39.26430944  40.93506478\n",
      "  42.60582013  44.27657547  45.94733082  47.61808617  49.28884151]\n"
     ]
    }
   ],
   "source": [
    "SB9_hist = np.histogram(R_SB9, bins='scott',range= None, normed=True)\n",
    "#print(SB9_hist)\n",
    "print(SB9_hist[1])\n",
    "DL_hist = np.histogram(R_DL, bins='scott',range= None, normed=True)\n",
    "DL_ref = np.histogram(R_DL, bins= 'auto', range=None,normed=True )\n",
    "print(DL_hist[1])"
   ]
  },
  {
   "cell_type": "code",
   "execution_count": null,
   "metadata": {
    "collapsed": false
   },
   "outputs": [],
   "source": []
  },
  {
   "cell_type": "code",
   "execution_count": null,
   "metadata": {
    "collapsed": true
   },
   "outputs": [],
   "source": []
  }
 ],
 "metadata": {
  "anaconda-cloud": {},
  "kernelspec": {
   "display_name": "Python [yo]",
   "language": "python",
   "name": "Python [yo]"
  },
  "language_info": {
   "codemirror_mode": {
    "name": "ipython",
    "version": 2
   },
   "file_extension": ".py",
   "mimetype": "text/x-python",
   "name": "python",
   "nbconvert_exporter": "python",
   "pygments_lexer": "ipython2",
   "version": "2.7.12"
  }
 },
 "nbformat": 4,
 "nbformat_minor": 0
}
