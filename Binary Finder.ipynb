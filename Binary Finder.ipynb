{
 "cells": [
  {
   "cell_type": "code",
   "execution_count": 7,
   "metadata": {
    "collapsed": false
   },
   "outputs": [
    {
     "ename": "ImportError",
     "evalue": "No module named BinFinderTools",
     "output_type": "error",
     "traceback": [
      "\u001b[0;31m---------------------------------------------------------------------------\u001b[0m",
      "\u001b[0;31mImportError\u001b[0m                               Traceback (most recent call last)",
      "\u001b[0;32m<ipython-input-7-8312c9f07a77>\u001b[0m in \u001b[0;36m<module>\u001b[0;34m()\u001b[0m\n\u001b[1;32m      1\u001b[0m \u001b[0;31m#Rerun the BinaryFinder that Emmanuel Modified to fix blank lists\u001b[0m\u001b[0;34m\u001b[0m\u001b[0;34m\u001b[0m\u001b[0m\n\u001b[0;32m----> 2\u001b[0;31m \u001b[0;32mfrom\u001b[0m \u001b[0mBinFinderTools\u001b[0m \u001b[0;32mimport\u001b[0m \u001b[0;34m*\u001b[0m\u001b[0;34m\u001b[0m\u001b[0m\n\u001b[0m\u001b[1;32m      3\u001b[0m \u001b[0;32mimport\u001b[0m \u001b[0mapogee\u001b[0m\u001b[0;34m.\u001b[0m\u001b[0mtools\u001b[0m\u001b[0;34m.\u001b[0m\u001b[0mread\u001b[0m \u001b[0;32mas\u001b[0m \u001b[0mapread\u001b[0m\u001b[0;34m\u001b[0m\u001b[0m\n\u001b[1;32m      4\u001b[0m \u001b[0;32mfrom\u001b[0m \u001b[0mTimer\u001b[0m \u001b[0;32mimport\u001b[0m \u001b[0mTimer\u001b[0m\u001b[0;34m\u001b[0m\u001b[0m\n\u001b[1;32m      5\u001b[0m \u001b[0;34m\u001b[0m\u001b[0m\n",
      "\u001b[0;31mImportError\u001b[0m: No module named BinFinderTools"
     ]
    }
   ],
   "source": [
    "#Rerun the BinaryFinder that Emmanuel Modified to fix blank lists\n",
    "from BinFinderTools import *\n",
    "import apogee.tools.read as apread\n",
    "from Timer import Timer\n",
    "\n",
    "data = apread.allStar(dr='13')\n",
    "apogeeIDs = data['APOGEE_ID']\n",
    "locationIDs = data['LOCATION_ID']\n",
    "targetCount = len(apogeeIDs)\n",
    "\n",
    "t = Timer()\n",
    "\n",
    "t.start()\n",
    "for i in range(targetCount):\n",
    "    locationID = locationIDs[i]\n",
    "    apogeeID = apogeeIDs[i]\n",
    "    interestingTargets = []\n",
    "    skippedTargets = []\n",
    "    recorded = False\n",
    "    for k in range(2, 50):\n",
    "        ranger = k / 100.\n",
    "        r = []\n",
    "\n",
    "        try:\n",
    "            badheader, header = apread.apStar(locationID, apogeeID, ext=0, dr='13', header=True)\n",
    "            data = apread.apStar(locationID, apogeeID, ext=9, header=False, dr='13')\n",
    "        except IOError:\n",
    "            skippedTargets.append([locationID, apogeeID])\n",
    "            continue\n",
    "        nvisits = header['NVISITS']\n",
    "\n",
    "        positions = []\n",
    "        for visit in range(1, nvisits):\n",
    "            if (nvisits != 1):\n",
    "                ccf = data['CCF'][0][1 + visit]\n",
    "            else:\n",
    "                ccf = data['CCF'][0]\n",
    "            max1, max2 = getMaxPositions(ccf, ranger)\n",
    "\n",
    "            for cut in range(20):\n",
    "                r.append(calcR(ccf, cut*10, (401 - (cut * 10))))\n",
    "               \n",
    "            if str(max2) != 'none':\n",
    "                recorded = True\n",
    "                interestingTargets.append([locationID, apogeeID])\n",
    "# Think about if R < 1 is an approprotiate threshold\n",
    "            if r < 1.0:\n",
    "                if recorded is False:\n",
    "                        interestingTargets.append([locationID, apogeeID])\n",
    "\n",
    "            positions.append([max1, max2, r])\n",
    "            del r[:]\n",
    "            r = []\n",
    "          \n",
    "        reportPositions(locationID, apogeeID, ranger, positions)\n",
    "    recordTargets(interestingTargets, ranger, 'interestingTargets')\n",
    "    recordTargets(skippedTargets, ranger, 'skippedTargets')\n",
    "\n",
    "print(\"done\", t.current())\n",
    "t.end()"
   ]
  },
  {
   "cell_type": "code",
   "execution_count": null,
   "metadata": {
    "collapsed": true
   },
   "outputs": [],
   "source": []
  }
 ],
 "metadata": {
  "anaconda-cloud": {},
  "kernelspec": {
   "display_name": "Python [yo]",
   "language": "python",
   "name": "Python [yo]"
  },
  "language_info": {
   "codemirror_mode": {
    "name": "ipython",
    "version": 2
   },
   "file_extension": ".py",
   "mimetype": "text/x-python",
   "name": "python",
   "nbconvert_exporter": "python",
   "pygments_lexer": "ipython2",
   "version": "2.7.12"
  }
 },
 "nbformat": 4,
 "nbformat_minor": 0
}
